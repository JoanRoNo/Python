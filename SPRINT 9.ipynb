{
 "cells": [
  {
   "cell_type": "code",
   "execution_count": 44,
   "id": "38c784af",
   "metadata": {},
   "outputs": [
    {
     "name": "stdout",
     "output_type": "stream",
     "text": [
      "Resultats ordenats per categoria per 1.76 m i 65.0 kg\n",
      "el teu IMC és de 20.98\n",
      "Bajo peso (< 18,5):  []\n",
      "Peso normal (18,5-24,9): [20.983987603305785]\n",
      "Sobrepeso (25-29,9): []\n",
      "Obesidad (> 30): []\n"
     ]
    }
   ],
   "source": [
    "bajo_peso = []\n",
    "peso_normal = []\n",
    "sobrepeso = []\n",
    "obesidad = []\n",
    "\n",
    "while True:\n",
    "    try:\n",
    "        pes = float(input(\"Quant peses en kg? \"))\n",
    "        break  # surt del bucle si tot ha anat bé\n",
    "    except ValueError:\n",
    "        print(\"Error: només es permeten números (exemple: 65.5). Torna-ho a provar.\")\n",
    "\n",
    "while True:\n",
    "    try:\n",
    "        alçada = float(input(\"Quant medeixes en metres? \"))\n",
    "        break\n",
    "    except ValueError:\n",
    "        print(\"Error: només es permeten números (exemple: 1.75). Torna-ho a provar.\")\n",
    "\n",
    "IMC = pes/(alçada**2)\n",
    "\n",
    "if pes <0 :\n",
    "    print(\"no pots donar un valor de pes negatiu\")\n",
    "if alçada <0 :\n",
    "    print(\"no pots donar un valor d'alçada negatiu\")\n",
    "if IMC < 18.5:\n",
    "    bajo_peso.append(IMC)\n",
    "elif 18.5 <= IMC <= 24.9:\n",
    "    peso_normal.append(IMC)\n",
    "elif 25 <= IMC <= 29.9:\n",
    "    sobrepeso.append(IMC)\n",
    "else:\n",
    "    obesidad.append(IMC)\n",
    "\n",
    "print(f\"Resultats ordenats per categoria per\", alçada, \"m\", \"i\", pes, \"kg\")\n",
    "print(f\"el teu IMC és de\", round(IMC,2))\n",
    "print(\"Bajo peso (< 18,5): \", sorted(bajo_peso))\n",
    "print(\"Peso normal (18,5-24,9):\", sorted(peso_normal))\n",
    "print(\"Sobrepeso (25-29,9):\", sorted(sobrepeso))\n",
    "print(\"Obesidad (> 30):\", sorted(obesidad))\n"
   ]
  },
  {
   "cell_type": "code",
   "execution_count": 43,
   "id": "5432bcff",
   "metadata": {},
   "outputs": [
    {
     "name": "stdout",
     "output_type": "stream",
     "text": [
      "⚠️ El valor ha d'estar entre 10 i 500.\n",
      "\n",
      "✅ El teu IMC és de 14.69 per 1.75 m i 45.0 kg\n",
      "📊 Categoria: Bajo peso\n",
      "\n",
      "📈 Resultats ordenats per categoria:\n",
      "Bajo peso (< 18.5): [14.693877551020408]\n",
      "Peso normal (18.5 - 24.9): []\n",
      "Sobrepeso (25 - 29.9): []\n",
      "Obesidad (> 30): []\n"
     ]
    }
   ],
   "source": [
    "# Llistes per categories d'IMC\n",
    "bajo_peso = []\n",
    "peso_normal = []\n",
    "sobrepeso = []\n",
    "obesidad = []\n",
    "\n",
    "# Funció per obtenir un número flotant amb validació de rang\n",
    "def obtenir_float(missatge, mínim, màxim):\n",
    "    while True:\n",
    "        try:\n",
    "            valor = float(input(missatge))\n",
    "            if valor < mínim or valor > màxim:\n",
    "                print(f\"⚠️ El valor ha d'estar entre {mínim} i {màxim}.\")\n",
    "            else:\n",
    "                return valor\n",
    "        except ValueError:\n",
    "            print(\"❌ Només es permeten números (ex: 65.5). Torna-ho a provar.\")\n",
    "\n",
    "# Entrada d’usuari amb validació\n",
    "pes = obtenir_float(\"Quant peses en kg? \", 10, 500)\n",
    "alçada = obtenir_float(\"Quant medeixes en metres? \", 0.5, 2.5)\n",
    "\n",
    "# Càlcul de l’IMC\n",
    "IMC = pes / (alçada ** 2)\n",
    "print(f\"\\n✅ El teu IMC és de {IMC:.2f} per {alçada} m i {pes} kg\")\n",
    "\n",
    "# Classificació de l’IMC\n",
    "if IMC < 18.5:\n",
    "    bajo_peso.append(IMC)\n",
    "    categoria = \"Bajo peso\"\n",
    "elif 18.5 <= IMC <= 24.9:\n",
    "    peso_normal.append(IMC)\n",
    "    categoria = \"Pes normal\"\n",
    "elif 25 <= IMC <= 29.9:\n",
    "    sobrepeso.append(IMC)\n",
    "    categoria = \"Sobrepès\"\n",
    "else:\n",
    "    obesidad.append(IMC)\n",
    "    categoria = \"Obesitat\"\n",
    "\n",
    "print(f\"📊 Categoria: {categoria}\")\n",
    "\n",
    "# Mostrar resultats\n",
    "print(\"\\n📈 Resultats ordenats per categoria:\")\n",
    "print(\"Bajo peso (< 18.5):\", sorted(bajo_peso))\n",
    "print(\"Peso normal (18.5 - 24.9):\", sorted(peso_normal))\n",
    "print(\"Sobrepeso (25 - 29.9):\", sorted(sobrepeso))\n",
    "print(\"Obesidad (> 30):\", sorted(obesidad))\n"
   ]
  },
  {
   "cell_type": "code",
   "execution_count": null,
   "id": "56783af4",
   "metadata": {},
   "outputs": [
    {
     "name": "stdout",
     "output_type": "stream",
     "text": [
      "45.0\n",
      "113.0\n",
      "318.15\n"
     ]
    }
   ],
   "source": [
    "# conversor de temperaturas\n",
    "\n",
    "celsius = float(input(\"introdueix la temperatura en ºC (només el número)\"))\n",
    "diccionario = {}\n",
    "kelvin = celsius + 273.15\n",
    "farenheit = (celsius*1.8) + 32\n",
    "\n",
    "print(celsius)\n",
    "print(farenheit)\n",
    "print(kelvin)\n",
    "\n",
    "\n"
   ]
  },
  {
   "cell_type": "code",
   "execution_count": null,
   "id": "42eb8cbd",
   "metadata": {},
   "outputs": [],
   "source": [
    "diccionario = {celsius, farenheit, kelvin}\n",
    "for temperaturas in diccionario:\n",
    "    tempertatura = float(input(\"posa la temperatura en celsius\"))\n",
    "\n",
    "\n",
    "\n"
   ]
  },
  {
   "cell_type": "code",
   "execution_count": 96,
   "id": "4f29c9fc",
   "metadata": {},
   "outputs": [
    {
     "name": "stdout",
     "output_type": "stream",
     "text": [
      "recompte de paraules:\n",
      "hola: 2\n",
      "em: 1\n",
      "dic: 2\n",
      "joan: 1\n",
      "i: 1\n",
      "la mitjana de longitud de les paraules és de 3.0\n"
     ]
    }
   ],
   "source": [
    "# contador de palabras de un texto:\n",
    "\n",
    "frase = input(str(\"escribe una frase\"))\n",
    "paraules = frase.split()\n",
    "contador_palabras = {}\n",
    "total_caracters = 0\n",
    "            \n",
    "\n",
    "for paraula in paraules:\n",
    "    paraula = paraula.lower()\n",
    "    if paraula in contador_palabras:\n",
    "        contador_palabras[paraula] +=1\n",
    "    else:\n",
    "        contador_palabras[paraula] = 1\n",
    "\n",
    "total_caracters += len(frase.replace(\" \",\"\"))\n",
    "nro_palabras = sum(contador_palabras.values())\n",
    "\n",
    "print(\"recompte de paraules:\")\n",
    "for paraula, compte in contador_palabras.items():\n",
    "    print(f\"{paraula}: {compte}\")\n",
    "\n",
    "mitjana = total_caracters/nro_palabras\n",
    "print(f\"la mitjana de longitud de les paraules és de\", mitjana)\n",
    "\n",
    "\n"
   ]
  },
  {
   "cell_type": "code",
   "execution_count": null,
   "id": "1b8578af",
   "metadata": {},
   "outputs": [],
   "source": []
  }
 ],
 "metadata": {
  "kernelspec": {
   "display_name": "Python 3",
   "language": "python",
   "name": "python3"
  },
  "language_info": {
   "codemirror_mode": {
    "name": "ipython",
    "version": 3
   },
   "file_extension": ".py",
   "mimetype": "text/x-python",
   "name": "python",
   "nbconvert_exporter": "python",
   "pygments_lexer": "ipython3",
   "version": "3.13.3"
  }
 },
 "nbformat": 4,
 "nbformat_minor": 5
}
